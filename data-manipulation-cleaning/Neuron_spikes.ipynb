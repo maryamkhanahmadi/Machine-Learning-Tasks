{
 "cells": [
  {
   "cell_type": "markdown",
   "id": "06d401f3",
   "metadata": {},
   "source": [
    "## Only data cleaning"
   ]
  },
  {
   "cell_type": "code",
   "execution_count": 223,
   "id": "c0226c2a",
   "metadata": {},
   "outputs": [],
   "source": [
    "'''\n",
    "Dr. Maryam Khanahmadi\n",
    "Postdoctoral Researcher\n",
    "Wallenberg Center for Quantum Technology\n",
    "Chalmers University of Technology\n",
    "Gothenburg, Sweden\n",
    "\n",
    "m.khanahmadi94@gmail.com\n",
    "\n",
    "\n",
    "The data set used was collected from a research institute where the firing \n",
    "of the neurons were measured as a function of time. \n",
    "\n",
    "The task was to calculate the  difference between consecutive firing of\n",
    "neurons if the recorded threshold was more than 0.5.\n",
    "\n",
    "The data set included data from almost 500 neurons (columns) and 606 time\n",
    "duration (rows.)\n",
    "\n",
    "Once the delay between consecutive neuron firing is calculated for all the \n",
    "606 rows, the values were stored in another column named (original column name + 'dt')\n",
    "\n",
    "\n",
    "''';"
   ]
  },
  {
   "cell_type": "markdown",
   "id": "32ba9b6f",
   "metadata": {},
   "source": [
    "### Easy peasy lemon squeezy... done !!"
   ]
  },
  {
   "cell_type": "markdown",
   "id": "6d21ca3c",
   "metadata": {},
   "source": [
    "### Data on firing of neurons"
   ]
  },
  {
   "cell_type": "code",
   "execution_count": 1,
   "id": "cd260bfd",
   "metadata": {},
   "outputs": [],
   "source": [
    "import pandas as pd\n",
    "import matplotlib.pyplot as plt\n",
    "import seaborn as sns\n",
    "import math\n",
    "import numpy as np\n",
    "\n",
    "tot = pd.ExcelFile(\"spks.xlsm\")\n",
    "df = pd.read_excel(tot, 'transposed')\n",
    "\n",
    "# Extracting only the useful columns\n",
    "index_last = np.where(df.columns == 'ROI512')[0][0]\n",
    "neurons_columns = df.columns[1:index_last]\n",
    "\n",
    "# Replacing all NaNs with 0, since no data means no measurement\n",
    "df = df.fillna(0)\n",
    "df = df.iloc[:603,:]\n",
    "\n",
    "'''\n",
    "    Step 1: For each column, separate the dateframe where the values are more\n",
    "            then 0.5.\n",
    "    Step 2: Create a new column and put the subtracted value (dt) for each columns\n",
    "    Step 3: Put this entire into a loop which runs over all relevant columns\n",
    "\n",
    "'''\n",
    "for i in neurons_columns:\n",
    "    df_temp = df[df[i]>0.5]\n",
    "    df[i+'dt'] =  (df_temp['time'].shift(-1) - df_temp['time']).reset_index().drop('index', axis = 1)\n",
    "\n",
    "df.to_csv (r'Edited_spks.csv', index = False, header=True)"
   ]
  }
 ],
 "metadata": {
  "kernelspec": {
   "display_name": "Python 3",
   "language": "python",
   "name": "python3"
  },
  "language_info": {
   "codemirror_mode": {
    "name": "ipython",
    "version": 3
   },
   "file_extension": ".py",
   "mimetype": "text/x-python",
   "name": "python",
   "nbconvert_exporter": "python",
   "pygments_lexer": "ipython3",
   "version": "3.8.8"
  }
 },
 "nbformat": 4,
 "nbformat_minor": 5
}
